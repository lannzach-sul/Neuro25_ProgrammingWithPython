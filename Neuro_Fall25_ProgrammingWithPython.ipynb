{
  "nbformat": 4,
  "nbformat_minor": 0,
  "metadata": {
    "colab": {
      "provenance": [],
      "authorship_tag": "ABX9TyPUKvhntry/5Z4JVxLKrH28",
      "include_colab_link": true
    },
    "kernelspec": {
      "name": "python3",
      "display_name": "Python 3"
    },
    "language_info": {
      "name": "python"
    }
  },
  "cells": [
    {
      "cell_type": "markdown",
      "metadata": {
        "id": "view-in-github",
        "colab_type": "text"
      },
      "source": [
        "<a href=\"https://colab.research.google.com/github/lannzach-sul/Neuro25_ProgrammingWithPython/blob/main/Neuro_Fall25_ProgrammingWithPython.ipynb\" target=\"_parent\"><img src=\"https://colab.research.google.com/assets/colab-badge.svg\" alt=\"Open In Colab\"/></a>"
      ]
    },
    {
      "cell_type": "markdown",
      "source": [
        "# Welcome #\n",
        "Hello all! And welcome to the Programming with Python unit of the carpentries sequence. Before we start, we should cover some of the basics of our environment.\n",
        "\n",
        "Today, we'll be working in Google colab, a virtual Python environment.\n",
        "Some key (pun intended) commands you'll want to know are:\n",
        "\n",
        "**ctrl/cmd + shift -> make a new code cell**\n",
        "\n",
        "**ctrl/cmd + enter -> evaluate a code cell**\n",
        "\n",
        "**arrow keys -> move around and between cells**"
      ],
      "metadata": {
        "id": "4_1EdlrCtRFN"
      }
    },
    {
      "cell_type": "markdown",
      "source": [
        "## Code of Conduct ##\n",
        "We are dedicated to providing a welcoming and supportive environment for all people, regardless of background or identity. By participating in this community, participants accept to abide by The Carpentries’ Code of Conduct and accept the procedures by which any Code of Conduct incidents are resolved. Any form of behaviour to exclude, intimidate, or cause discomfort is a violation of the Code of Conduct. In order to foster a positive and professional learning environment we encourage the following kinds of behaviours in all platforms and events:\n",
        "\n",
        "* Use welcoming and inclusive language\n",
        "* Be respectful of different viewpoints and experiences\n",
        "* Gracefully accept constructive criticism\n",
        "* Focus on what is best for the community\n",
        "* Show courtesy and respect towards other community members\n",
        "\n",
        "## Workshop Assumptions ##\n",
        "Additionally, we encourage everyone involved in this workshop to take breaks and to be inquisitive.\n",
        "\n",
        "You know yourself best; there is no reprimand for recognizing when you are at a point of diminishing returns or when you need a moment of silence. If you need to take a break, please take one. Please also let us know if you need a moment to catch up during the workshop -- as Carpentries instructors, we welcome constructive criticism and on-the-fly adjustment requests. We want to help you learn best and are willing to hear your feedback when doing so.\n",
        "\n",
        "We welcome requests for clarification -- chances are if you have a question, someone else in the room the same question also. Python (and programming in general) is a skill and a language to learn. We aim to pay forward the questions others answered in our past. It's cliche, but **there are no bad questions!!!!!**"
      ],
      "metadata": {
        "id": "GNxwaGM1ckYS"
      }
    },
    {
      "cell_type": "markdown",
      "source": [
        "## Useful links and required files ##\n",
        "QR Code for this notebook:\n",
        "\n",
        "![colabQR.png](data:image/png;base64,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)\n",
        "\n",
        "[Carpentries Lesson Homepage](https://swcarpentry.github.io/python-novice-inflammation/)\n",
        "\n",
        "[Required Code Files](https://swcarpentry.github.io/python-novice-inflammation/data/python-novice-inflammation-data.zip) and [Required Data Files](https://swcarpentry.github.io/python-novice-inflammation/files/code/python-novice-inflammation-code.zip)"
      ],
      "metadata": {
        "id": "YCkb2-MsjA8v"
      }
    },
    {
      "cell_type": "markdown",
      "source": [
        "# The help() function #\n",
        "When in doubt, the `help()` function can prove invaluable. To use this function, enter `help(`, followed by the name of function you'd like more information on, followed by a closing `)`."
      ],
      "metadata": {
        "id": "bHL7OCpHxm2p"
      }
    },
    {
      "cell_type": "code",
      "source": [
        "help(print)"
      ],
      "metadata": {
        "colab": {
          "base_uri": "https://localhost:8080/"
        },
        "id": "SeD-Y7KKxCue",
        "outputId": "3e183482-da24-4b90-ced3-e0b0e126f930"
      },
      "execution_count": null,
      "outputs": [
        {
          "output_type": "stream",
          "name": "stdout",
          "text": [
            "Help on built-in function print in module builtins:\n",
            "\n",
            "print(*args, sep=' ', end='\\n', file=None, flush=False)\n",
            "    Prints the values to a stream, or to sys.stdout by default.\n",
            "\n",
            "    sep\n",
            "      string inserted between values, default a space.\n",
            "    end\n",
            "      string appended after the last value, default a newline.\n",
            "    file\n",
            "      a file-like object (stream); defaults to the current sys.stdout.\n",
            "    flush\n",
            "      whether to forcibly flush the stream.\n",
            "\n"
          ]
        }
      ]
    },
    {
      "cell_type": "markdown",
      "source": [
        "# On Python Indices #\n",
        "Please note: Python is what we call a **0-indexed** programming language. In essence, this means that when we write a piece of code that depends on a numerical position, we begin our count at the number zero.\n",
        "\n",
        "Let's use a quick example to illustrate how this concept works:\n",
        "\n",
        "If we had a list in python with three elements, `name_list = [John, Jacob, Sally]`, and we wanted to get our **second** element, `Jacob`, we would access it as follows:\n",
        "```\n",
        "name_list[1]\n",
        "# 'Jacob'\n",
        "```\n",
        "because we would count the items in the list starting from element 0 (`John`) upwards."
      ],
      "metadata": {
        "id": "HXF732JS1bFm"
      }
    }
  ]
}